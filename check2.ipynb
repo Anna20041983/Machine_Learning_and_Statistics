{
 "cells": [
  {
   "cell_type": "markdown",
   "id": "e2df64a7",
   "metadata": {},
   "source": [
    ">\n",
    "\n",
    ">>\n",
    "\n",
    ">>>\n",
    "\n",
    ">>>>>\n"
   ]
  },
  {
   "cell_type": "markdown",
   "id": "6bfca0a5",
   "metadata": {},
   "source": [
    "<span style='color:green'> Python Programming</span>\n",
    "<span style='color:Blue'> Machine Learning  </span>\n",
    "## Changing Code Text Color\n",
    "<code style=\"color:green;\">i_am_green_var </code>\n",
    "<code style=\"color:YOUR_COLOR_CHOICE;\">\n",
    "\n",
    "    data = [i for i in range(0,100)]\n",
    "    print(data)\n",
    "\n",
    "</code>"
   ]
  },
  {
   "cell_type": "markdown",
   "id": "f5996f5b",
   "metadata": {},
   "source": [
    "<span style='background:yellow'> Changing Text Background </span>\n",
    "<span style='background :purple; color:white' > Changing Text Color and Background Both </span>"
   ]
  },
  {
   "cell_type": "markdown",
   "id": "3a9e70d0",
   "metadata": {},
   "source": [
    "<span style='font-family:Georgia'> It is Georgia font </span>\n",
    "<span style='font-family:Verdana'> It is Verdana font </span>"
   ]
  },
  {
   "cell_type": "markdown",
   "id": "e1f31402",
   "metadata": {},
   "source": [
    "<span style='font-size:72x; '> I am Big </span>\n",
    "\n",
    "<span style='font-weight:500; '> I am Bolder </span>"
   ]
  },
  {
   "cell_type": "markdown",
   "id": "ee594169",
   "metadata": {},
   "source": [
    "<div class=\"alert alert-block alert-danger\">\n",
    "<b>Danger:</b> This is an example of danger colored box.</div>\n",
    "<div class=\"alert alert-block alert-success\">\n",
    "<b>Success:</b> This is an example of success colored box.</div>"
   ]
  },
  {
   "cell_type": "markdown",
   "id": "a9f37e53",
   "metadata": {},
   "source": [
    "Syntax For |\n",
    "| SN | Column A | Column B | Column C |\n",
    "| :---: | :---: | :---: | :---: | \n",
    "| 0   | 10 | 11 | 100 |\n",
    "| 1 | 22.5 | 23 | 23.5 |"
   ]
  },
  {
   "cell_type": "markdown",
   "id": "c2b0db7f",
   "metadata": {},
   "source": [
    "<table>\n",
    "    <tr>\n",
    "        <th> SN </th>\n",
    "        <th> Column A </th>\n",
    "        <th> Column B </th>\n",
    "        <th> Column C </th>\n",
    "    </tr>\n",
    "    <tr>\n",
    "        <td>0</td>\n",
    "        <td>10</td>\n",
    "        <td>11</td>\n",
    "        <td>100</td>\n",
    "    </tr>\n",
    "    <tr>\n",
    "        <td>1</td>\n",
    "        <td>22.5</td>\n",
    "        <td>23</td>\n",
    "        <td>23.5</td>\n",
    "    </tr>\n",
    "\n",
    "</table>"
   ]
  },
  {
   "cell_type": "code",
   "execution_count": null,
   "id": "fc5f3d94",
   "metadata": {},
   "outputs": [],
   "source": []
  }
 ],
 "metadata": {
  "kernelspec": {
   "display_name": "Python 3 (ipykernel)",
   "language": "python",
   "name": "python3"
  },
  "language_info": {
   "codemirror_mode": {
    "name": "ipython",
    "version": 3
   },
   "file_extension": ".py",
   "mimetype": "text/x-python",
   "name": "python",
   "nbconvert_exporter": "python",
   "pygments_lexer": "ipython3",
   "version": "3.11.5"
  }
 },
 "nbformat": 4,
 "nbformat_minor": 5
}
