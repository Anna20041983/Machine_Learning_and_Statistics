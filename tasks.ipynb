{
 "cells": [
  {
   "cell_type": "markdown",
   "metadata": {},
   "source": [
    " \n",
    "# Tasks\n",
    "\n",
    "Machine Learning and Statistics\n",
    "\n",
    "Winter 2023/2024\n",
    "\n",
    "by Ian McLoughlin\n",
    "\n",
    "***"
   ]
  },
  {
   "cell_type": "markdown",
   "metadata": {},
   "source": [
    "## Task 1\n",
    "\n",
    "> Square roots are difficult to calculate. In Python, you typically use the power operator (a double asterisk) or a package such as 'math'. In this task, you should write a function 'sqrt(x)' to approximate the square root of a floating point number x without using the power operator or a package.\n",
    "\n",
    "> Rather, you should use the Newton’s method. Start with an initial guess for the square root called $z_0$. You then repeatedly improve it using the following formula, until the difference between some previous guess $z_i$ and the next $z_{i+1}$ is less than some threshold, say 0.01\n",
    "\n",
    "$$ z_{i+1} = z_1 - \\frac{z_i × z_i - x}{2z_i} $$\n"
   ]
  },
  {
   "cell_type": "code",
   "execution_count": null,
   "metadata": {
    "vscode": {
     "languageId": "plaintext"
    }
   },
   "outputs": [],
   "source": [
    "def sqrt(x):\n",
    "# Initial guess for the square root\n",
    "z = x /4.0\n",
    "\n",
    "# Loop until we are accurate enough\n",
    "# Newton's method for a better approximation\n"
   ]
  },
  {
   "cell_type": "code",
   "execution_count": null,
   "metadata": {
    "vscode": {
     "languageId": "plaintext"
    }
   },
   "outputs": [],
   "source": [
    "# The number that we want to calculate the square root of.\n",
    "x = 16"
   ]
  },
  {
   "cell_type": "code",
   "execution_count": null,
   "metadata": {
    "vscode": {
     "languageId": "plaintext"
    }
   },
   "outputs": [],
   "source": [
    "# Our initial guess for the square root - can be anything\n",
    "z = 2.0"
   ]
  },
  {
   "cell_type": "code",
   "execution_count": null,
   "metadata": {
    "vscode": {
     "languageId": "plaintext"
    }
   },
   "outputs": [],
   "source": [
    "# The first approximation\n",
    "z= z - (((z * z) - x)/(2 * z))\n",
    "\n",
    "z"
   ]
  }
 ],
 "metadata": {
  "language_info": {
   "name": "python"
  }
 },
 "nbformat": 4,
 "nbformat_minor": 2
}
