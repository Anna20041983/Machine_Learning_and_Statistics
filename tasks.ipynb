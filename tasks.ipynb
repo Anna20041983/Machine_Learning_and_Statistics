{
 "cells": [
  {
   "cell_type": "code",
   "execution_count": 126,
   "metadata": {},
   "outputs": [
    {
     "data": {
      "text/html": [
       "<style id=hide>div.input{display:none;}</style>\n",
       "<button type=\"button\" \n",
       "onclick=\"var myStyle = document.getElementById('hide').sheet;myStyle.insertRule('div.input{display:inherit !important;}', 0);\">\n",
       "Show inputs</button>\n"
      ],
      "text/plain": [
       "<IPython.core.display.HTML object>"
      ]
     },
     "metadata": {},
     "output_type": "display_data"
    }
   ],
   "source": [
    "%%html\n",
    "<style id=hide>div.input{display:none;}</style>\n",
    "<button type=\"button\" \n",
    "onclick=\"var myStyle = document.getElementById('hide').sheet;myStyle.insertRule('div.input{display:inherit !important;}', 0);\">\n",
    "Show inputs</button>"
   ]
  },
  {
   "cell_type": "code",
   "execution_count": 127,
   "metadata": {},
   "outputs": [
    {
     "data": {
      "text/html": [
       "<div class=\"alert alert-block alert-info\">\n",
       "<b>Tip:</b> Use blue boxes (alert-info) for tips and notes. \n",
       "</div>\n",
       "\n",
       "<div class=\"alert alert-block alert-warning\">\n",
       "Warning: Use Yellow for a warning that might need attention.\n",
       "</div>\n",
       "\n",
       "<div class=\"alert alert-block alert-success\">\n",
       "Green box can be used to show some positive such as the successful execution of a test or code.\n",
       "</div>\n",
       "\n",
       "<div class=\"alert alert-block alert-danger\">\n",
       "Red boxes can be used to alert users to not delete some important part of code etc. \n",
       "</div>\n"
      ],
      "text/plain": [
       "<IPython.core.display.HTML object>"
      ]
     },
     "metadata": {},
     "output_type": "display_data"
    }
   ],
   "source": [
    "%%html\n",
    "<div class=\"alert alert-block alert-info\">\n",
    "<b>Tip:</b> Use blue boxes (alert-info) for tips and notes. \n",
    "</div>\n",
    "\n",
    "<div class=\"alert alert-block alert-warning\">\n",
    "Warning: Use Yellow for a warning that might need attention.\n",
    "</div>\n",
    "\n",
    "<div class=\"alert alert-block alert-success\">\n",
    "Green box can be used to show some positive such as the successful execution of a test or code.\n",
    "</div>\n",
    "\n",
    "<div class=\"alert alert-block alert-danger\">\n",
    "Red boxes can be used to alert users to not delete some important part of code etc. \n",
    "</div>"
   ]
  },
  {
   "cell_type": "code",
   "execution_count": 16,
   "metadata": {},
   "outputs": [
    {
     "data": {
      "text/html": [
       "<img src onerror=\"var cell = this.closest('.code_cell');var editor = cell.querySelector('.input_area');editor.style.background='#E9FDFF';this.parentNode.removeChild(this)\">"
      ],
      "text/plain": [
       "<IPython.core.display.HTML object>"
      ]
     },
     "metadata": {},
     "output_type": "display_data"
    }
   ],
   "source": [
    "from IPython.display import HTML, display\n",
    "\n",
    "def set_background(color):\n",
    "    script = (\"var cell = this.closest('.code_cell');\"\n",
    "              \"var editor = cell.querySelector('.input_area');\"\n",
    "              \"editor.style.background='{}';\" \n",
    "              \"this.parentNode.removeChild(this)\"\n",
    "             ).format(color)\n",
    "    display(HTML('<img src onerror=\"{}\">'.format(script)))\n",
    "    \n",
    "    \n",
    "set_background('#E9FDFF')"
   ]
  },
  {
   "cell_type": "code",
   "execution_count": 17,
   "metadata": {},
   "outputs": [],
   "source": [
    "class color:\n",
    "   PURPLE = '\\033[95m'\n",
    "   CYAN = '\\033[96m'\n",
    "   DARKCYAN = '\\033[36m'\n",
    "   BLUE = '\\033[94m'\n",
    "   GREEN = '\\033[92m'\n",
    "   YELLOW = '\\033[93m'\n",
    "   RED = '\\033[91m'\n",
    "   BOLD = '\\033[1m'\n",
    "   UNDERLINE = '\\033[4m'\n",
    "   END = '\\033[0m'"
   ]
  },
  {
   "cell_type": "code",
   "execution_count": 18,
   "metadata": {},
   "outputs": [
    {
     "name": "stdout",
     "output_type": "stream",
     "text": [
      "\u001b[1m\u001b[94mTask 1\u001b[0m\n"
     ]
    }
   ],
   "source": [
    "print(color.BOLD + color.BLUE + \"\"'''Task 1'''\"\" + color.END)"
   ]
  },
  {
   "cell_type": "code",
   "execution_count": 19,
   "metadata": {},
   "outputs": [
    {
     "data": {
      "text/html": [
       "<style id=hide>div.input{display:none;}</style>\n",
       "<button type=\"button\" \n",
       "onclick=\"var myStyle = document.getElementById('hide').sheet;myStyle.insertRule('div.input{display:inherit !important;}', 0);\">\n",
       "<div class=\"alert alert-block alert-info\">\n",
       "<b><h2>Task 1</h2></b>\n",
       "</div>\n"
      ],
      "text/plain": [
       "<IPython.core.display.HTML object>"
      ]
     },
     "metadata": {},
     "output_type": "display_data"
    }
   ],
   "source": [
    "%%html\n",
    "<style id=hide>div.input{display:none;}</style>\n",
    "<button type=\"button\" \n",
    "onclick=\"var myStyle = document.getElementById('hide').sheet;myStyle.insertRule('div.input{display:inherit !important;}', 0);\">\n",
    "<div class=\"alert alert-block alert-info\">\n",
    "<b><h2>Task 1</h2></b>\n",
    "</div>"
   ]
  },
  {
   "cell_type": "markdown",
   "metadata": {},
   "source": [
    "# Tasks\n",
    "\n",
    "Machine Learning and Statistics\n",
    "\n",
    "Winter 2023/2024\n",
    "\n",
    "by Ian McLoughlin\n",
    "\n",
    "***"
   ]
  },
  {
   "cell_type": "markdown",
   "metadata": {},
   "source": [
    "## ***Task 1:***"
   ]
  },
  {
   "cell_type": "code",
   "execution_count": 20,
   "metadata": {},
   "outputs": [
    {
     "data": {
      "text/html": [
       "<div class=\"alert alert-block alert-info\">\n",
       "Square roots are difficult to calculate. In Python, you typically use the power operator (a double asterisk) or a package such as <b>math</b>. In this task, you should write a function <b>sqrt(x)</b> to approximate the square root of a floating point number x without using the power operator or a package.\n",
       "</div>\n"
      ],
      "text/plain": [
       "<IPython.core.display.HTML object>"
      ]
     },
     "metadata": {},
     "output_type": "display_data"
    }
   ],
   "source": [
    "%%html\n",
    "<div class=\"alert alert-block alert-info\">\n",
    "Square roots are difficult to calculate. In Python, you typically use the power operator (a double asterisk) or a package such as <b>math</b>. In this task, you should write a function <b>sqrt(x)</b> to approximate the square root of a floating point number x without using the power operator or a package.\n",
    "</div>"
   ]
  },
  {
   "cell_type": "code",
   "execution_count": 21,
   "metadata": {},
   "outputs": [
    {
     "data": {
      "text/html": [
       "<div class=\"alert alert-block alert-info\">\n",
       "Rather, you should use the Newton’s method. Start with an initial guess for the square root called $z_0$. You then repeatedly improve it using the following formula, until the difference between some previous guess <b>$z_i$</b> and the next <b>$z_{i+1}$</b> is less than some threshold, say 0.01\n",
       "</div>\n"
      ],
      "text/plain": [
       "<IPython.core.display.HTML object>"
      ]
     },
     "metadata": {},
     "output_type": "display_data"
    }
   ],
   "source": [
    "%%html\n",
    "<div class=\"alert alert-block alert-info\">\n",
    "Rather, you should use the Newton’s method. Start with an initial guess for the square root called $z_0$. You then repeatedly improve it using the following formula, until the difference between some previous guess <b>$z_i$</b> and the next <b>$z_{i+1}$</b> is less than some threshold, say 0.01\n",
    "</div>"
   ]
  },
  {
   "cell_type": "markdown",
   "metadata": {},
   "source": [
    "$$ z_{i+1} = z_1 - \\frac{z_i × z_i - x}{2z_i} $$"
   ]
  },
  {
   "cell_type": "markdown",
   "metadata": {},
   "source": [
    "***\n",
    "## Task 1\n",
    "\n",
    "> Square roots are difficult to calculate. In Python, you typically use the power operator (a double asterisk) or a package such as 'math'. In this task, you should write a function 'sqrt(x)' to approximate the square root of a floating point number x without using the power operator or a package.\n",
    "\n",
    "> Rather, you should use the Newton’s method. Start with an initial guess for the square root called $z_0$. You then repeatedly improve it using the following formula, until the difference between some previous guess $z_i$ and the next $z_{i+1}$ is less than some threshold, say 0.01\n",
    "\n",
    "$$ z_{i+1} = z_1 - \\frac{z_i × z_i - x}{2z_i} $$\n",
    "***"
   ]
  },
  {
   "cell_type": "code",
   "execution_count": 22,
   "metadata": {},
   "outputs": [],
   "source": [
    "def sqrt(x):\n",
    "    # Initial guess for the square root\n",
    "    z = x /4.0\n",
    "\n",
    "    # Loop until we are accurate enough\n",
    "    #while (z could be improved):\n",
    "    for i in range(100):\n",
    "        # Newton's method for a better approximation\n",
    "        z = z - (((z * z) - x)/(2 * z))\n",
    "        \n",
    "    # z should now be a good a good approximation for the square root\n",
    "    return z"
   ]
  },
  {
   "cell_type": "code",
   "execution_count": 23,
   "metadata": {},
   "outputs": [
    {
     "data": {
      "text/plain": [
       "1.7320508075688774"
      ]
     },
     "execution_count": 23,
     "metadata": {},
     "output_type": "execute_result"
    }
   ],
   "source": [
    "        # Test the function on 3    \n",
    "        sqrt(3)"
   ]
  },
  {
   "cell_type": "code",
   "execution_count": 24,
   "metadata": {},
   "outputs": [
    {
     "data": {
      "text/plain": [
       "1.7320508075688772"
      ]
     },
     "execution_count": 24,
     "metadata": {},
     "output_type": "execute_result"
    }
   ],
   "source": [
    "        # Check Python's value for square root of 3    \n",
    "        3**0.5"
   ]
  },
  {
   "cell_type": "code",
   "execution_count": 25,
   "metadata": {},
   "outputs": [
    {
     "name": "stdout",
     "output_type": "stream",
     "text": [
      "\u001b[1;37m----------------------------------------------------------------------------------------------------------------------------\n"
     ]
    }
   ],
   "source": [
    "print('\\x1B[1;37m'+\"----------------------------------------------------------------------------------------------------------------------------\")"
   ]
  },
  {
   "cell_type": "code",
   "execution_count": 26,
   "metadata": {},
   "outputs": [
    {
     "name": "stdout",
     "output_type": "stream",
     "text": [
      "\u001b[1;95m*********************************************************************************************************\n"
     ]
    }
   ],
   "source": [
    "print('\\x1B[1;95m'+\"*********************************************************************************************************\")"
   ]
  },
  {
   "cell_type": "code",
   "execution_count": 27,
   "metadata": {},
   "outputs": [
    {
     "name": "stdout",
     "output_type": "stream",
     "text": [
      "\u001b[1;91m<<< Notes - Task 1 >>>\n"
     ]
    }
   ],
   "source": [
    "print('\\x1B[1;91m' + \"<<< Notes - Task 1 >>>\")"
   ]
  },
  {
   "cell_type": "markdown",
   "metadata": {},
   "source": [
    "### Notes:\n",
    "***\n",
    "**1.** The calculation **$z^2 - x$** is exactly zero when **$z$** is the square root of **$x$**. It is greater than zero when $z$ is too bug. It is less than zero when $z$ is too small. Thus $(z^2 - x)^2$ is a good candidate for a cost function.\n",
    "\n",
    "**2.** The derivative of the numerator $z^2 - x$ with respect to $z$ is $2z$. That is the dominator of the fraction in the formula from the question.\n",
    "***"
   ]
  },
  {
   "cell_type": "markdown",
   "metadata": {},
   "source": [
    "*** ***End of Task 1*** ***"
   ]
  },
  {
   "cell_type": "code",
   "execution_count": 28,
   "metadata": {},
   "outputs": [
    {
     "name": "stdout",
     "output_type": "stream",
     "text": [
      "\u001b[1;37mEnd of Task 1\u001b[0m\n"
     ]
    }
   ],
   "source": [
    "print('\\x1B[1;37m' + 'End of Task 1' + '\\x1b[0m')"
   ]
  },
  {
   "cell_type": "markdown",
   "metadata": {},
   "source": [
    "## ***Task 2:***"
   ]
  },
  {
   "cell_type": "code",
   "execution_count": 13,
   "metadata": {},
   "outputs": [
    {
     "data": {
      "text/html": [
       "<div class=\"alert alert-block alert-info\">\n",
       "Consider the below contingency table based on a survey asking\n",
       "respondents whether they prefer coffee or tea and whether they\n",
       "prefer plain or chocolate biscuits.\n",
       "</div>\n"
      ],
      "text/plain": [
       "<IPython.core.display.HTML object>"
      ]
     },
     "metadata": {},
     "output_type": "display_data"
    }
   ],
   "source": [
    "%%html\n",
    "<div class=\"alert alert-block alert-info\">\n",
    "Consider the below contingency table based on a survey asking\n",
    "respondents whether they prefer coffee or tea and whether they\n",
    "prefer plain or chocolate biscuits.\n",
    "</div>"
   ]
  },
  {
   "cell_type": "code",
   "execution_count": 15,
   "metadata": {},
   "outputs": [
    {
     "data": {
      "text/html": [
       "<div class=\"alert alert-block alert-info\">\n",
       "Use <b>scipy.stats</b> to perform\n",
       "a <b>chi-squared</b> test to see whether there is any evidence of an association between drink preference and biscuit preference in this\n",
       "instance.\n",
       "</div>\n",
       "\n"
      ],
      "text/plain": [
       "<IPython.core.display.HTML object>"
      ]
     },
     "metadata": {},
     "output_type": "display_data"
    }
   ],
   "source": [
    "%%html\n",
    "<div class=\"alert alert-block alert-info\">\n",
    "Use <b>scipy.stats</b> to perform\n",
    "a <b>chi-squared</b> test to see whether there is any evidence of an association between drink preference and biscuit preference in this\n",
    "instance.\n",
    "</div>\n",
    "\n"
   ]
  },
  {
   "cell_type": "markdown",
   "metadata": {},
   "source": [
    "### Chi-Square Tests"
   ]
  },
  {
   "cell_type": "markdown",
   "metadata": {},
   "source": [
    "#### Laerd Statistics Chi-Square Test for Independence\n",
    "https://statistics.laerd.com/spss-tutorials/chi-square-test-for-association-using-spss-statistics.php"
   ]
  },
  {
   "cell_type": "code",
   "execution_count": 7,
   "metadata": {},
   "outputs": [
    {
     "data": {
      "text/plain": [
       "[['Male', 'Books'],\n",
       " ['Male', 'Books'],\n",
       " ['Male', 'Books'],\n",
       " ['Male', 'Books'],\n",
       " ['Male', 'Books'],\n",
       " ['Male', 'Books'],\n",
       " ['Male', 'Books'],\n",
       " ['Male', 'Books'],\n",
       " ['Male', 'Books'],\n",
       " ['Male', 'Books'],\n",
       " ['Male', 'Books'],\n",
       " ['Male', 'Books'],\n",
       " ['Male', 'Books'],\n",
       " ['Male', 'Books'],\n",
       " ['Male', 'Books'],\n",
       " ['Male', 'Books']]"
      ]
     },
     "execution_count": 7,
     "metadata": {},
     "output_type": "execute_result"
    }
   ],
   "source": [
    "# Sixteen Males who preferred Books\n",
    "\n",
    "male_books = [['Male', 'Books']] * 16\n",
    "\n",
    "# Show\n",
    "\n",
    "male_books"
   ]
  },
  {
   "cell_type": "code",
   "execution_count": 3,
   "metadata": {},
   "outputs": [
    {
     "data": {
      "text/plain": [
       "[['Female', 'Books'],\n",
       " ['Female', 'Books'],\n",
       " ['Female', 'Books'],\n",
       " ['Female', 'Books'],\n",
       " ['Female', 'Books'],\n",
       " ['Female', 'Books'],\n",
       " ['Female', 'Books'],\n",
       " ['Female', 'Books'],\n",
       " ['Female', 'Books'],\n",
       " ['Female', 'Books'],\n",
       " ['Female', 'Books'],\n",
       " ['Female', 'Books'],\n",
       " ['Female', 'Books']]"
      ]
     },
     "execution_count": 3,
     "metadata": {},
     "output_type": "execute_result"
    }
   ],
   "source": [
    "# Theerteen Females who preferred Books\n",
    "\n",
    "female_books = [['Female', 'Books']] * 13\n",
    "\n",
    "# Show\n",
    "\n",
    "female_books"
   ]
  },
  {
   "cell_type": "code",
   "execution_count": 4,
   "metadata": {},
   "outputs": [
    {
     "data": {
      "text/plain": [
       "[['Male', 'Online'],\n",
       " ['Male', 'Online'],\n",
       " ['Male', 'Online'],\n",
       " ['Male', 'Online'],\n",
       " ['Male', 'Online'],\n",
       " ['Male', 'Online'],\n",
       " ['Male', 'Online'],\n",
       " ['Male', 'Online'],\n",
       " ['Male', 'Online'],\n",
       " ['Male', 'Online'],\n",
       " ['Male', 'Online'],\n",
       " ['Male', 'Online'],\n",
       " ['Male', 'Online'],\n",
       " ['Male', 'Online'],\n",
       " ['Male', 'Online'],\n",
       " ['Male', 'Online'],\n",
       " ['Male', 'Online'],\n",
       " ['Male', 'Online'],\n",
       " ['Male', 'Online'],\n",
       " ['Male', 'Online'],\n",
       " ['Male', 'Online'],\n",
       " ['Male', 'Online'],\n",
       " ['Male', 'Online'],\n",
       " ['Male', 'Online']]"
      ]
     },
     "execution_count": 4,
     "metadata": {},
     "output_type": "execute_result"
    }
   ],
   "source": [
    "# Twenty-four Males who preferred Online\n",
    "\n",
    "male_online = [['Male', 'Online']] * 24\n",
    "\n",
    "# Show\n",
    "\n",
    "male_online"
   ]
  },
  {
   "cell_type": "code",
   "execution_count": 5,
   "metadata": {},
   "outputs": [
    {
     "data": {
      "text/plain": [
       "[['Female', 'Online'],\n",
       " ['Female', 'Online'],\n",
       " ['Female', 'Online'],\n",
       " ['Female', 'Online'],\n",
       " ['Female', 'Online'],\n",
       " ['Female', 'Online'],\n",
       " ['Female', 'Online'],\n",
       " ['Female', 'Online'],\n",
       " ['Female', 'Online'],\n",
       " ['Female', 'Online'],\n",
       " ['Female', 'Online'],\n",
       " ['Female', 'Online'],\n",
       " ['Female', 'Online'],\n",
       " ['Female', 'Online'],\n",
       " ['Female', 'Online'],\n",
       " ['Female', 'Online'],\n",
       " ['Female', 'Online'],\n",
       " ['Female', 'Online'],\n",
       " ['Female', 'Online'],\n",
       " ['Female', 'Online'],\n",
       " ['Female', 'Online'],\n",
       " ['Female', 'Online'],\n",
       " ['Female', 'Online'],\n",
       " ['Female', 'Online'],\n",
       " ['Female', 'Online'],\n",
       " ['Female', 'Online'],\n",
       " ['Female', 'Online']]"
      ]
     },
     "execution_count": 5,
     "metadata": {},
     "output_type": "execute_result"
    }
   ],
   "source": [
    "# Twenty-seven Females who preferred Online\n",
    "\n",
    "female_online = [['Female', 'Online']] * 27\n",
    "\n",
    "# Show\n",
    "\n",
    "female_online"
   ]
  },
  {
   "cell_type": "code",
   "execution_count": 8,
   "metadata": {},
   "outputs": [
    {
     "data": {
      "text/plain": [
       "[['Male', 'Books'],\n",
       " ['Male', 'Books'],\n",
       " ['Male', 'Books'],\n",
       " ['Male', 'Books'],\n",
       " ['Male', 'Books'],\n",
       " ['Male', 'Books'],\n",
       " ['Male', 'Books'],\n",
       " ['Male', 'Books'],\n",
       " ['Male', 'Books'],\n",
       " ['Male', 'Books'],\n",
       " ['Male', 'Books'],\n",
       " ['Male', 'Books'],\n",
       " ['Male', 'Books'],\n",
       " ['Male', 'Books'],\n",
       " ['Male', 'Books'],\n",
       " ['Male', 'Books'],\n",
       " ['Male', 'Online'],\n",
       " ['Male', 'Online'],\n",
       " ['Male', 'Online'],\n",
       " ['Male', 'Online'],\n",
       " ['Male', 'Online'],\n",
       " ['Male', 'Online'],\n",
       " ['Male', 'Online'],\n",
       " ['Male', 'Online'],\n",
       " ['Male', 'Online'],\n",
       " ['Male', 'Online'],\n",
       " ['Male', 'Online'],\n",
       " ['Male', 'Online'],\n",
       " ['Male', 'Online'],\n",
       " ['Male', 'Online'],\n",
       " ['Male', 'Online'],\n",
       " ['Male', 'Online'],\n",
       " ['Male', 'Online'],\n",
       " ['Male', 'Online'],\n",
       " ['Male', 'Online'],\n",
       " ['Male', 'Online'],\n",
       " ['Male', 'Online'],\n",
       " ['Male', 'Online'],\n",
       " ['Male', 'Online'],\n",
       " ['Male', 'Online'],\n",
       " ['Female', 'Books'],\n",
       " ['Female', 'Books'],\n",
       " ['Female', 'Books'],\n",
       " ['Female', 'Books'],\n",
       " ['Female', 'Books'],\n",
       " ['Female', 'Books'],\n",
       " ['Female', 'Books'],\n",
       " ['Female', 'Books'],\n",
       " ['Female', 'Books'],\n",
       " ['Female', 'Books'],\n",
       " ['Female', 'Books'],\n",
       " ['Female', 'Books'],\n",
       " ['Female', 'Books'],\n",
       " ['Female', 'Online'],\n",
       " ['Female', 'Online'],\n",
       " ['Female', 'Online'],\n",
       " ['Female', 'Online'],\n",
       " ['Female', 'Online'],\n",
       " ['Female', 'Online'],\n",
       " ['Female', 'Online'],\n",
       " ['Female', 'Online'],\n",
       " ['Female', 'Online'],\n",
       " ['Female', 'Online'],\n",
       " ['Female', 'Online'],\n",
       " ['Female', 'Online'],\n",
       " ['Female', 'Online'],\n",
       " ['Female', 'Online'],\n",
       " ['Female', 'Online'],\n",
       " ['Female', 'Online'],\n",
       " ['Female', 'Online'],\n",
       " ['Female', 'Online'],\n",
       " ['Female', 'Online'],\n",
       " ['Female', 'Online'],\n",
       " ['Female', 'Online'],\n",
       " ['Female', 'Online'],\n",
       " ['Female', 'Online'],\n",
       " ['Female', 'Online'],\n",
       " ['Female', 'Online'],\n",
       " ['Female', 'Online'],\n",
       " ['Female', 'Online']]"
      ]
     },
     "execution_count": 8,
     "metadata": {},
     "output_type": "execute_result"
    }
   ],
   "source": [
    "# Raw data, merge the four lists\n",
    "\n",
    "male_books + male_online + female_books + female_online"
   ]
  },
  {
   "cell_type": "code",
   "execution_count": 9,
   "metadata": {},
   "outputs": [
    {
     "ename": "NameError",
     "evalue": "name 'raw_data' is not defined",
     "output_type": "error",
     "traceback": [
      "\u001b[1;31m---------------------------------------------------------------------------\u001b[0m",
      "\u001b[1;31mNameError\u001b[0m                                 Traceback (most recent call last)",
      "Cell \u001b[1;32mIn[9], line 1\u001b[0m\n\u001b[1;32m----> 1\u001b[0m \u001b[38;5;28mlist\u001b[39m(\u001b[38;5;28mzip\u001b[39m(\u001b[38;5;241m*\u001b[39mraw_data))\n",
      "\u001b[1;31mNameError\u001b[0m: name 'raw_data' is not defined"
     ]
    }
   ],
   "source": [
    "# Zip the list - make the rows columns and the columns rows\n",
    "# Interchganges the outer and inner lists\n",
    "\n",
    "gender, medium = list(zip(*raw_data))"
   ]
  },
  {
   "cell_type": "code",
   "execution_count": null,
   "metadata": {},
   "outputs": [],
   "source": []
  }
 ],
 "metadata": {
  "kernelspec": {
   "display_name": "Python 3 (ipykernel)",
   "language": "python",
   "name": "python3"
  },
  "language_info": {
   "codemirror_mode": {
    "name": "ipython",
    "version": 3
   },
   "file_extension": ".py",
   "mimetype": "text/x-python",
   "name": "python",
   "nbconvert_exporter": "python",
   "pygments_lexer": "ipython3",
   "version": "3.11.5"
  }
 },
 "nbformat": 4,
 "nbformat_minor": 2
}
